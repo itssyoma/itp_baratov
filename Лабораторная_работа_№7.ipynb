{
  "nbformat": 4,
  "nbformat_minor": 0,
  "metadata": {
    "colab": {
      "provenance": [],
      "authorship_tag": "ABX9TyOPzt1ajgfhtltTcs22OTY3",
      "include_colab_link": true
    },
    "kernelspec": {
      "name": "python3",
      "display_name": "Python 3"
    },
    "language_info": {
      "name": "python"
    }
  },
  "cells": [
    {
      "cell_type": "markdown",
      "metadata": {
        "id": "view-in-github",
        "colab_type": "text"
      },
      "source": [
        "<a href=\"https://colab.research.google.com/github/itssyoma/itp_baratov/blob/main/%D0%9B%D0%B0%D0%B1%D0%BE%D1%80%D0%B0%D1%82%D0%BE%D1%80%D0%BD%D0%B0%D1%8F_%D1%80%D0%B0%D0%B1%D0%BE%D1%82%D0%B0_%E2%84%967.ipynb\" target=\"_parent\"><img src=\"https://colab.research.google.com/assets/colab-badge.svg\" alt=\"Open In Colab\"/></a>"
      ]
    },
    {
      "cell_type": "markdown",
      "source": [
        "# Практическая работа №7\n",
        "# Тема: Основы Numpy. Построение графиков<br>\n",
        "**Дисциплина:** «Информационные технологии и программирование» <br>\n",
        "**Выполнил:** Студент группы ПИЖ-б-о-22-1, направление подготовки: 09.03.04 «Программная инженерия»\n",
        "Баратов Семен Григорьевич <br>\n",
        "**Проверил:**\n",
        "Ассистент кафедры ИСТ\n",
        "Березина В.А."
      ],
      "metadata": {
        "id": "uYMtPmPcIZZs"
      }
    },
    {
      "cell_type": "markdown",
      "source": [
        "# 1. Цель и содержание"
      ],
      "metadata": {
        "id": "KMSiudlOIglW"
      }
    },
    {
      "cell_type": "markdown",
      "source": [
        "Цель лабораторной работы: научиться манипулировать векторноматричными данными с использованием библиотеки NumPy.<br>\n",
        "Задачи лабораторной работы:<br>\n",
        "– научиться создавать массивы numpy;<br>\n",
        "– научиться визуализировать данные с использование matplotlib."
      ],
      "metadata": {
        "id": "BRCc-d_OIi2Y"
      }
    },
    {
      "cell_type": "markdown",
      "source": [
        "# 2. Выполнение индивидуального задания"
      ],
      "metadata": {
        "id": "QsPoLrFrInuH"
      }
    },
    {
      "cell_type": "markdown",
      "source": [
        "**Вариант 2.**\n",
        "Сделаем столбчатую диаграмму суммы поставок по категориям товаров и круговую диаграмму соотношения просроченных товаров по категориям."
      ],
      "metadata": {
        "id": "n84kmIAkIrgj"
      }
    },
    {
      "cell_type": "markdown",
      "source": [
        "Загрузим файл, соответсвующий варианту."
      ],
      "metadata": {
        "id": "ohRvzkv6L_M6"
      }
    },
    {
      "cell_type": "code",
      "source": [
        "!wget https://raw.githubusercontent.com/enikolaev/IT-and-Programming/main/data/pract4/p4_data_02.csv"
      ],
      "metadata": {
        "colab": {
          "base_uri": "https://localhost:8080/"
        },
        "id": "TNFTIrvRMB8a",
        "outputId": "f7d1ec42-6b03-42e6-840a-439c54b20037"
      },
      "execution_count": 1,
      "outputs": [
        {
          "output_type": "stream",
          "name": "stdout",
          "text": [
            "--2023-04-09 22:43:40--  https://raw.githubusercontent.com/enikolaev/IT-and-Programming/main/data/pract4/p4_data_02.csv\n",
            "Resolving raw.githubusercontent.com (raw.githubusercontent.com)... 185.199.109.133, 185.199.111.133, 185.199.108.133, ...\n",
            "Connecting to raw.githubusercontent.com (raw.githubusercontent.com)|185.199.109.133|:443... connected.\n",
            "HTTP request sent, awaiting response... 200 OK\n",
            "Length: 57850 (56K) [text/plain]\n",
            "Saving to: ‘p4_data_02.csv’\n",
            "\n",
            "\rp4_data_02.csv        0%[                    ]       0  --.-KB/s               \rp4_data_02.csv      100%[===================>]  56.49K  --.-KB/s    in 0.005s  \n",
            "\n",
            "2023-04-09 22:43:40 (10.1 MB/s) - ‘p4_data_02.csv’ saved [57850/57850]\n",
            "\n"
          ]
        }
      ]
    },
    {
      "cell_type": "markdown",
      "source": [
        "Подключим библиотеки numpy и matplotlib, реализуем получение информации из файла."
      ],
      "metadata": {
        "id": "TaFv3ejQML_Z"
      }
    },
    {
      "cell_type": "code",
      "source": [
        "import numpy as np\n",
        "from matplotlib import pyplot as plt\n",
        "\n",
        "F = open('p4_data_02.csv', encoding='utf-8-sig')\n",
        "header = F.readline().strip().split(';')\n",
        "\n",
        "all_clients = []\n",
        "\n",
        "for line in F:\n",
        "  data = line.strip().split(';')\n",
        "  client = {}\n",
        "  for i, key in enumerate(header):\n",
        "    client[key] = data[i]\n",
        "\n",
        "  client['ID'] = int(client['ID'])\n",
        "  client['Price'] = float(client['Price'][1:])\n",
        "\n",
        "  all_clients.append(client)\n"
      ],
      "metadata": {
        "id": "iK536O2FMJ73"
      },
      "execution_count": 3,
      "outputs": []
    },
    {
      "cell_type": "markdown",
      "source": [
        "Реализуем первый график."
      ],
      "metadata": {
        "id": "iRdNzhvfMvmG"
      }
    },
    {
      "cell_type": "code",
      "source": [
        "prices_cat = {}\n",
        "\n",
        "for client in all_clients:\n",
        "  if client['Category'] in prices_cat:\n",
        "    prices_cat[client['Category']] += client['Price']\n",
        "  else:\n",
        "    prices_cat[client['Category']] = client['Price']\n",
        "\n",
        "for key in prices_cat:\n",
        "  prices_cat[key] = round(prices_cat[key], 2)\n",
        "\n",
        "categories = []\n",
        "sums = []\n",
        "for key, value in prices_cat.items():\n",
        "  categories.append(key)\n",
        "  sums.append(value)\n",
        "\n",
        "x1 = np.array(categories, 'str')\n",
        "y1 = np.array(sums, 'float')\n",
        "\n",
        "plt.figure(figsize=(4,4))\n",
        "plt.ylim([17000, 20000])\n",
        "plt.title('Cумма поставок по категориям товаров\\n')\n",
        "plt.bar(x1, y1)"
      ],
      "metadata": {
        "colab": {
          "base_uri": "https://localhost:8080/",
          "height": 430
        },
        "id": "FXu-ve8ONJRD",
        "outputId": "0a4fecd3-efdc-4481-e26d-fbfe9e81be5d"
      },
      "execution_count": 33,
      "outputs": [
        {
          "output_type": "execute_result",
          "data": {
            "text/plain": [
              "<BarContainer object of 3 artists>"
            ]
          },
          "metadata": {},
          "execution_count": 33
        },
        {
          "output_type": "display_data",
          "data": {
            "text/plain": [
              "<Figure size 400x400 with 1 Axes>"
            ],
            "image/png": "[encoded data removed]"
          },
          "metadata": {}
        }
      ]
    },
    {
      "cell_type": "markdown",
      "source": [
        "Реализуем второй график"
      ],
      "metadata": {
        "id": "rYB7Q4JXQ10d"
      }
    },
    {
      "cell_type": "code",
      "source": [
        "ofd_cat = {}\n",
        "\n",
        "for client in all_clients:\n",
        "  if client['Category'] in ofd_cat:\n",
        "    if client['OutOfDate'] == \"true\":\n",
        "      ofd_cat[client['Category']] += 1\n",
        "  else:\n",
        "    ofd_cat[client['Category']] = 1\n",
        "\n",
        "categories2 = []\n",
        "OFDs = []\n",
        "for key, value in ofd_cat.items():\n",
        "  categories2.append(key)\n",
        "  OFDs.append(value)\n",
        "\n",
        "x2 = np.array(categories2, 'str')\n",
        "y2 = np.array(OFDs, 'float')\n",
        "\n",
        "plt.figure(figsize=(4,4))\n",
        "plt.title('Cоотношение просроченных товаров по категориям\\n')\n",
        "plt.pie(y2, labels=x2, autopct='%1.1f%%')"
      ],
      "metadata": {
        "colab": {
          "base_uri": "https://localhost:8080/",
          "height": 558
        },
        "id": "aemXOjCmRAoH",
        "outputId": "69df2b38-dee3-4393-dd37-a5da71451dbf"
      },
      "execution_count": 34,
      "outputs": [
        {
          "output_type": "execute_result",
          "data": {
            "text/plain": [
              "([<matplotlib.patches.Wedge at 0x7ff81d4c7220>,\n",
              "  <matplotlib.patches.Wedge at 0x7ff81d4f93a0>,\n",
              "  <matplotlib.patches.Wedge at 0x7ff81d4c7f10>],\n",
              " [Text(0.5520223038785278, 0.9514575009009296, 'Невкусные'),\n",
              "  Text(-1.0977673533616783, -0.0700488250672071, 'Неизвестно'),\n",
              "  Text(0.6114913176309664, -0.9143732107088137, 'Вкусные')],\n",
              " [Text(0.3011030748428333, 0.5189768186732343, '33.3%'),\n",
              "  Text(-0.5987821927427336, -0.03820845003665841, '35.5%'),\n",
              "  Text(0.33354071870779983, -0.49874902402298926, '31.2%')])"
            ]
          },
          "metadata": {},
          "execution_count": 34
        },
        {
          "output_type": "display_data",
          "data": {
            "text/plain": [
              "<Figure size 400x400 with 1 Axes>"
            ],
            "image/png": "[encoded data removed]"
          },
          "metadata": {}
        }
      ]
    },
    {
      "cell_type": "markdown",
      "source": [
        "# 3. Контрольные вопросы"
      ],
      "metadata": {
        "id": "8POWk1DqWAcu"
      }
    },
    {
      "cell_type": "markdown",
      "source": [
        "**1. Чем список python отличается от массива numpy?**<br>\n",
        "Массивы numpy позволяют реализовывать векторно-матричные операции обновременно над всеми элементами массива или\n",
        "матрицы.<br><br>\n",
        "**2. Продемонстрируйте варианты создания массива numpy: из списка, как диапазон с заданным шагом, массив нуле, единиц.**<br>\n",
        "Из списка:\n",
        "\n",
        "```\n",
        "my_list = [e for e in range(1, 11)]\n",
        "my_float_array = np.array(my_list, 'float')\n",
        "```\n",
        "\n",
        "Диапоазон с заданным шагом 0.1:\n",
        "```\n",
        "x = np.arange(0, 10, 0.1)\n",
        "```\n",
        "Массив нулей:\n",
        "```\n",
        "array_1d = np.zeros(3)\n",
        "// [0. 0. 0.]\n",
        "```\n",
        "Массив единиц:\n",
        "```\n",
        "array_1d = np.ones(3)\n",
        "// [1. 1. 1.]\n",
        "```\n",
        "<br>\n",
        "\n",
        "**3. Продемонстрируйте выполнение векторных операций с массивами numpy: умножение вектора на число, сложение векторов.**<br>\n",
        "Умножение вектора на число:\n",
        "```\n",
        "A = np.array([1., 2., 3.])\n",
        "B = 2\n",
        "C = A * B\n",
        "// [2. 4. 6.]\n",
        "```\n",
        "Сложение векторов:\n",
        "```\n",
        "A = np.array([1., 2., 3.])\n",
        "B = np.array([4., 5., 6.])\n",
        "C = A + B\n",
        "// [5. 7. 9.]\n",
        "```\n",
        "<br>\n",
        "\n",
        "**4. Реализуйте построение векторов numpy с использованием генераторов случайных чисел.**\n",
        "Создание случайного трехмерного вектора:\n",
        "```\n",
        "a = np.random.randn(3)\n",
        "//[ 0.83750375 0.10563905 -0.10573978]\n",
        "```\n",
        "<br>\n",
        "\n",
        "**5. Перечислите основные типы диаграмм matplotlib и функции, которые реализуют построение графиков данных типов.**<br>\n",
        "Линейные графики(plot), гистогораммы(hist), столбчатые диаграммы(bar), горизонтальные столбчатые диаграммы (barh),\n",
        "круговыве диаграммы(pie)."
      ],
      "metadata": {
        "id": "bsGyu8EWWChw"
      }
    }
  ]
}