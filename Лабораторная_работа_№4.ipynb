{
  "nbformat": 4,
  "nbformat_minor": 0,
  "metadata": {
    "colab": {
      "provenance": [],
      "toc_visible": true,
      "authorship_tag": "ABX9TyNBlFpj3raNKA8cXIhDqsPC",
      "include_colab_link": true
    },
    "kernelspec": {
      "name": "python3",
      "display_name": "Python 3"
    },
    "language_info": {
      "name": "python"
    }
  },
  "cells": [
    {
      "cell_type": "markdown",
      "metadata": {
        "id": "view-in-github",
        "colab_type": "text"
      },
      "source": [
        "<a href=\"https://colab.research.google.com/github/itssyoma/itp_baratov/blob/main/%D0%9B%D0%B0%D0%B1%D0%BE%D1%80%D0%B0%D1%82%D0%BE%D1%80%D0%BD%D0%B0%D1%8F_%D1%80%D0%B0%D0%B1%D0%BE%D1%82%D0%B0_%E2%84%964.ipynb\" target=\"_parent\"><img src=\"https://colab.research.google.com/assets/colab-badge.svg\" alt=\"Open In Colab\"/></a>"
      ]
    },
    {
      "cell_type": "markdown",
      "source": [
        "# Практическая работа №4\n",
        "# Тема: Данные в формате CSV <br>\n",
        "**Дисциплина:** «Информационные технологии и программирование» <br>\n",
        "**Выполнил:** Студент группы ПИЖ-б-о-22-1, направление подготовки: 09.03.04 «Программная инженерия»\n",
        "Баратов Семен Григорьевич <br>\n",
        "**Проверил:**\n",
        "Ассистент кафедры ИСТ\n",
        "Березина В.А."
      ],
      "metadata": {
        "id": "ijKqjvPBUWgQ"
      }
    },
    {
      "cell_type": "markdown",
      "source": [
        "# 1. Цель и содержание"
      ],
      "metadata": {
        "id": "C-X95jrIiwc3"
      }
    },
    {
      "cell_type": "markdown",
      "source": [
        "Цель лабораторной работы: научиться обрабатывать данные из файла csv.<br>\n",
        "Задачи лабораторной работы:<br>\n",
        "– научиться считывать строки из файла csv;<br>\n",
        "– научиться преобразовывать типы данных;<br>\n",
        "– научиться решать прикладные задачи с использованием простых скриптов."
      ],
      "metadata": {
        "id": "0AQq1BJkiz1h"
      }
    },
    {
      "cell_type": "markdown",
      "source": [
        "# 2. Выполнение индивидуального задания"
      ],
      "metadata": {
        "id": "wfUBg3FFi_gH"
      }
    },
    {
      "cell_type": "markdown",
      "source": [
        "**Вариант 2.<br>**\n",
        "1. Количество продуктов в каждой из 3-х категорий;<br>\n",
        "2. Суммарный объем поставок в валюте по каждой категории;<br>\n",
        "3. Суммарный объем в валюте всей выборки;<br>\n",
        "4. Количество просроченных продуктов."
      ],
      "metadata": {
        "id": "_buQt98njXW3"
      }
    },
    {
      "cell_type": "markdown",
      "source": [
        "Загрузим файл p4_data_02.csv в хранилище Google Collab."
      ],
      "metadata": {
        "id": "9BK8bkEIjw-s"
      }
    },
    {
      "cell_type": "code",
      "source": [
        "!wget https://raw.githubusercontent.com/enikolaev/IT-and-Programming/main/data/pract4/p4_data_02.csv"
      ],
      "metadata": {
        "colab": {
          "base_uri": "https://localhost:8080/"
        },
        "id": "NbCJSn2GjMbV",
        "outputId": "e1f45d74-5746-485a-fd06-42e078d19fe1"
      },
      "execution_count": 1,
      "outputs": [
        {
          "output_type": "stream",
          "name": "stdout",
          "text": [
            "--2023-04-09 11:38:40--  https://raw.githubusercontent.com/enikolaev/IT-and-Programming/main/data/pract4/p4_data_02.csv\n",
            "Resolving raw.githubusercontent.com (raw.githubusercontent.com)... 185.199.110.133, 185.199.108.133, 185.199.111.133, ...\n",
            "Connecting to raw.githubusercontent.com (raw.githubusercontent.com)|185.199.110.133|:443... connected.\n",
            "HTTP request sent, awaiting response... 200 OK\n",
            "Length: 57850 (56K) [text/plain]\n",
            "Saving to: ‘p4_data_02.csv’\n",
            "\n",
            "p4_data_02.csv      100%[===================>]  56.49K  --.-KB/s    in 0.01s   \n",
            "\n",
            "2023-04-09 11:38:40 (4.00 MB/s) - ‘p4_data_02.csv’ saved [57850/57850]\n",
            "\n"
          ]
        }
      ]
    },
    {
      "cell_type": "markdown",
      "source": [
        "Получение данных"
      ],
      "metadata": {
        "id": "FKLlUdpDCFLT"
      }
    },
    {
      "cell_type": "code",
      "source": [
        "F = open('p4_data_02.csv', encoding='utf-8-sig')\n",
        "header = F.readline().strip().split(';')\n",
        "\n",
        "all_clients = []\n",
        "\n",
        "for line in F:\n",
        "  data = line.strip().split(';')\n",
        "  client = {}\n",
        "  for i, key in enumerate(header):\n",
        "    client[key] = data[i]\n",
        "\n",
        "  client['ID'] = int(client['ID'])\n",
        "  client['Price'] = float(client['Price'][1:])\n",
        "\n",
        "  all_clients.append(client)"
      ],
      "metadata": {
        "id": "DhfC5pAXkNqm"
      },
      "execution_count": 50,
      "outputs": []
    },
    {
      "cell_type": "markdown",
      "source": [
        "Задача 1."
      ],
      "metadata": {
        "id": "hnMNLNJiCH2G"
      }
    },
    {
      "cell_type": "code",
      "source": [
        "categories = {}\n",
        "\n",
        "for client in all_clients:\n",
        "  if client['Category'] in categories:\n",
        "    categories[client['Category']] += 1\n",
        "  else:\n",
        "    categories[client['Category']] = 1\n",
        "\n",
        "print(categories)"
      ],
      "metadata": {
        "colab": {
          "base_uri": "https://localhost:8080/"
        },
        "id": "_LSG5E1kCJct",
        "outputId": "a0467852-23d9-44b3-ae59-72489d67f06d"
      },
      "execution_count": 27,
      "outputs": [
        {
          "output_type": "stream",
          "name": "stdout",
          "text": [
            "{'Невкусные': 341, 'Неизвестно': 342, 'Вкусные': 317}\n"
          ]
        }
      ]
    },
    {
      "cell_type": "markdown",
      "source": [
        "Задача 2."
      ],
      "metadata": {
        "id": "THYf-avkD4Se"
      }
    },
    {
      "cell_type": "code",
      "source": [
        "prices_cat = {}\n",
        "\n",
        "for client in all_clients:\n",
        "  if client['Category'] in prices_cat:\n",
        "    prices_cat[client['Category']] += client['Price']\n",
        "  else:\n",
        "    prices_cat[client['Category']] = client['Price']\n",
        "\n",
        "for key in prices_cat:\n",
        "  prices_cat[key] = round(prices_cat[key], 2)\n",
        "print(prices_cat)"
      ],
      "metadata": {
        "colab": {
          "base_uri": "https://localhost:8080/"
        },
        "id": "wncgF84FD8uC",
        "outputId": "a3ef7874-944f-4972-a5d4-a1bb6b997d63"
      },
      "execution_count": 34,
      "outputs": [
        {
          "output_type": "stream",
          "name": "stdout",
          "text": [
            "{'Невкусные': 18871.59, 'Неизвестно': 19823.09, 'Вкусные': 17467.61}\n"
          ]
        }
      ]
    },
    {
      "cell_type": "markdown",
      "source": [
        "Задача 3."
      ],
      "metadata": {
        "id": "snHCf_vgEsKA"
      }
    },
    {
      "cell_type": "code",
      "source": [
        "sum_price = 0\n",
        "\n",
        "for client in all_clients:\n",
        "  sum_price += client['Price']\n",
        "\n",
        "sum_price = round(sum_price, 2)\n",
        "print('Суммарный объем в валюте всей выборки: $', sum_price, sep='')"
      ],
      "metadata": {
        "colab": {
          "base_uri": "https://localhost:8080/"
        },
        "id": "me0QZAUpEten",
        "outputId": "2a145af4-144b-4e8d-d330-f49fede60806"
      },
      "execution_count": 33,
      "outputs": [
        {
          "output_type": "stream",
          "name": "stdout",
          "text": [
            "Суммарный объем в валюте всей выборки: $56162.29\n"
          ]
        }
      ]
    },
    {
      "cell_type": "markdown",
      "source": [
        "Задача 4."
      ],
      "metadata": {
        "id": "t7eU98gMLLYO"
      }
    },
    {
      "cell_type": "code",
      "source": [
        "cnt = 0\n",
        "\n",
        "for client in all_clients:\n",
        "  if client['OutOfDate'] == \"true\":\n",
        "    cnt += 1\n",
        "\n",
        "print('Количество просроченных продуктов :', cnt)\n",
        "\n",
        "p = [10, 100, 34, 56, 45, 45]\n",
        "\n",
        "print(len(p))"
      ],
      "metadata": {
        "colab": {
          "base_uri": "https://localhost:8080/"
        },
        "id": "HOt_TMGRLNat",
        "outputId": "f6f78cd3-9d2d-484c-eb59-601916880c71"
      },
      "execution_count": 58,
      "outputs": [
        {
          "output_type": "stream",
          "name": "stdout",
          "text": [
            "Количество просроченных продуктов : 491\n",
            "6\n"
          ]
        }
      ]
    },
    {
      "cell_type": "markdown",
      "source": [
        "# 3. Контрольные вопросы"
      ],
      "metadata": {
        "id": "R3cR727JNnRN"
      }
    },
    {
      "cell_type": "markdown",
      "source": [
        "1. Напишите код для печати суммы элементов списка p:\n",
        "p = [10, 100, 34, 56, 45, 45]"
      ],
      "metadata": {
        "id": "n345lkTROI4g"
      }
    },
    {
      "cell_type": "code",
      "source": [
        "p = [10, 100, 34, 56, 45, 45]\n",
        "print(sum(p))"
      ],
      "metadata": {
        "colab": {
          "base_uri": "https://localhost:8080/"
        },
        "id": "YA_bFN0oO1yS",
        "outputId": "97d80ea2-fba1-4fc6-ef90-f6cb78bea641"
      },
      "execution_count": 59,
      "outputs": [
        {
          "output_type": "stream",
          "name": "stdout",
          "text": [
            "290\n"
          ]
        }
      ]
    },
    {
      "cell_type": "markdown",
      "source": [
        "2. Напишите код для печати количества элементов списка p:\n",
        "p = [10, 100, 34, 56, 45, 45]"
      ],
      "metadata": {
        "id": "eu1C7WD2O6wa"
      }
    },
    {
      "cell_type": "code",
      "source": [
        "p = [10, 100, 34, 56, 45, 45]\n",
        "print(len(p))"
      ],
      "metadata": {
        "colab": {
          "base_uri": "https://localhost:8080/"
        },
        "id": "D_5anv_qO9Iw",
        "outputId": "9431a344-1bbb-47ba-e42f-6fff216a1133"
      },
      "execution_count": 60,
      "outputs": [
        {
          "output_type": "stream",
          "name": "stdout",
          "text": [
            "6\n"
          ]
        }
      ]
    },
    {
      "cell_type": "markdown",
      "source": [
        "3. Напишите код для печати суммы элементов кратных 7:\n",
        "p = [10, 100, 35, 34, 56, 45, 45, 21]"
      ],
      "metadata": {
        "id": "59i_EqivPCer"
      }
    },
    {
      "cell_type": "code",
      "source": [
        "p = [10, 100, 35, 34, 56, 45, 45, 21]\n",
        "sum7 = 0\n",
        "\n",
        "for i in p:\n",
        "  if i % 7 == 0:\n",
        "    sum7 += i\n",
        "\n",
        "print(sum7)"
      ],
      "metadata": {
        "colab": {
          "base_uri": "https://localhost:8080/"
        },
        "id": "odYI1tyiPE0s",
        "outputId": "5151b91d-0bce-4212-d1b0-9c97e32e4dbf"
      },
      "execution_count": 61,
      "outputs": [
        {
          "output_type": "stream",
          "name": "stdout",
          "text": [
            "112\n"
          ]
        }
      ]
    },
    {
      "cell_type": "markdown",
      "source": [
        "4. Напишите код для поиска ключей словаря d, для которых значения\n",
        "превышают 45:\n",
        "p = {4:10, 12:100, 35:3, 34:56, 56:11, 45:’abc’}"
      ],
      "metadata": {
        "id": "JhLrSx9rPaVi"
      }
    },
    {
      "cell_type": "code",
      "source": [
        "p = {4: 10, 12: 100, 35: 3, 34: 56, 56: 11, 45: 'abc'}\n",
        "\n",
        "for key, value in p.items():\n",
        "  if type(value) is int and value > 45:\n",
        "    print(key)"
      ],
      "metadata": {
        "colab": {
          "base_uri": "https://localhost:8080/"
        },
        "id": "TianHRMtPd08",
        "outputId": "b3a629b5-f6f7-4b08-bd05-f2a73aa48b22"
      },
      "execution_count": 69,
      "outputs": [
        {
          "output_type": "stream",
          "name": "stdout",
          "text": [
            "12\n",
            "34\n"
          ]
        }
      ]
    },
    {
      "cell_type": "markdown",
      "source": [
        "5. Напишите код, который выводит список, составленный из квадратов чисел\n",
        "от 1 до 100. Сам список также необходимо сгенерировать."
      ],
      "metadata": {
        "id": "n8eg8EQ-Rgwh"
      }
    },
    {
      "cell_type": "code",
      "source": [
        "nums = []\n",
        "for i in range(1, 101):\n",
        "  nums.append(i)\n",
        "\n",
        "squares = []\n",
        "for i in nums:\n",
        "  squares.append(i*i)\n",
        "\n",
        "print(squares)"
      ],
      "metadata": {
        "colab": {
          "base_uri": "https://localhost:8080/"
        },
        "id": "d0jN9u1PRiuR",
        "outputId": "df5d12a7-3d6a-4de3-9994-031c5fc60285"
      },
      "execution_count": 71,
      "outputs": [
        {
          "output_type": "stream",
          "name": "stdout",
          "text": [
            "[1, 4, 9, 16, 25, 36, 49, 64, 81, 100, 121, 144, 169, 196, 225, 256, 289, 324, 361, 400, 441, 484, 529, 576, 625, 676, 729, 784, 841, 900, 961, 1024, 1089, 1156, 1225, 1296, 1369, 1444, 1521, 1600, 1681, 1764, 1849, 1936, 2025, 2116, 2209, 2304, 2401, 2500, 2601, 2704, 2809, 2916, 3025, 3136, 3249, 3364, 3481, 3600, 3721, 3844, 3969, 4096, 4225, 4356, 4489, 4624, 4761, 4900, 5041, 5184, 5329, 5476, 5625, 5776, 5929, 6084, 6241, 6400, 6561, 6724, 6889, 7056, 7225, 7396, 7569, 7744, 7921, 8100, 8281, 8464, 8649, 8836, 9025, 9216, 9409, 9604, 9801, 10000]\n"
          ]
        }
      ]
    },
    {
      "cell_type": "markdown",
      "source": [
        "6. Опишите структуру файла csv. Поясните последовательность действий при чтении файла csv.<br><br>\n",
        "\n",
        "Файл CSV – это особый вид файла, который позволяет структурировать большие объемы данных.\n",
        "\n",
        "По сути, он является обычным текстовым файлом, однако каждый новый элемент отделен от предыдущего запятой или другим разделителем. Обычно каждая запись начинается с новой строки. Данные CSV можно легко экспортировать в электронные таблицы или базы данных. Программист может расширять CSV файл, добавляя новые строки.\n",
        "<br>\n",
        "Чтение файла можно реализовать либо построчно с методом open(), либо используя функции библиотеки csv."
      ],
      "metadata": {
        "id": "NkdV9hOeSJlg"
      }
    }
  ]
}