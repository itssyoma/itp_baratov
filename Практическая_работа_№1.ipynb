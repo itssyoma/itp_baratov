{
  "nbformat": 4,
  "nbformat_minor": 0,
  "metadata": {
    "colab": {
      "provenance": [],
      "toc_visible": true,
      "authorship_tag": "ABX9TyO2QPBTj6InZjd+M1ArabwU",
      "include_colab_link": true
    },
    "kernelspec": {
      "name": "python3",
      "display_name": "Python 3"
    },
    "language_info": {
      "name": "python"
    }
  },
  "cells": [
    {
      "cell_type": "markdown",
      "metadata": {
        "id": "view-in-github",
        "colab_type": "text"
      },
      "source": [
        "<a href=\"https://colab.research.google.com/github/itssyoma/itp_baratov/blob/main/%D0%9F%D1%80%D0%B0%D0%BA%D1%82%D0%B8%D1%87%D0%B5%D1%81%D0%BA%D0%B0%D1%8F_%D1%80%D0%B0%D0%B1%D0%BE%D1%82%D0%B0_%E2%84%961.ipynb\" target=\"_parent\"><img src=\"https://colab.research.google.com/assets/colab-badge.svg\" alt=\"Open In Colab\"/></a>"
      ]
    },
    {
      "cell_type": "markdown",
      "source": [
        "# Практическая работа №1\n",
        "# Тема: Простейший скрипт Python <br>\n",
        "**Дисциплина:** «Информационные технологии и программирование» <br>\n",
        "**Выполнил:** Студент группы ПИЖ-б-о-22-1, направление подготовки: 09.03.04 «Программная инженерия»\n",
        "Баратов Семен Григорьевич <br>\n",
        "**Проверил:**\n",
        "Ассистент кафедры ИСТ\n",
        "Березина В.А."
      ],
      "metadata": {
        "id": "hHGDpsaMGuoW"
      }
    },
    {
      "cell_type": "markdown",
      "source": [
        "# 1. Цель и содержание"
      ],
      "metadata": {
        "id": "_74NGgdcH2Uz"
      }
    },
    {
      "cell_type": "markdown",
      "source": [
        "Цель лабораторной работы: научиться писать простейшие скрипты Python,\n",
        "используя простейшие возможности языка. <br>\n",
        "Задачи лабораторной работы: <br>\n",
        "– применение функции type( ), <br>\n",
        "– применение функции print( ),<br>\n",
        "– выполнение скрипта и решение простейших задач."
      ],
      "metadata": {
        "id": "EnGrQoPzJFRz"
      }
    },
    {
      "cell_type": "markdown",
      "source": [
        "# 2. Выполнение индивидуального задания"
      ],
      "metadata": {
        "id": "MwPjaVPeH_bE"
      }
    },
    {
      "cell_type": "markdown",
      "source": [
        "Вариант 2\n",
        "\n",
        "![image.png](data:image/png;base64,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)"
      ],
      "metadata": {
        "id": "muDHaof_EAQV"
      }
    },
    {
      "cell_type": "markdown",
      "source": [
        "Проанализируем выражение и определим переменные, которые потребуются для выполнения задания. Независимые переменные:  **w111, bt, x, y, w**. Переменная, которая должна быть вычислена на основе независимых:  **Se**."
      ],
      "metadata": {
        "id": "6hODg0JGEoct"
      }
    },
    {
      "cell_type": "code",
      "source": [
        "w111 = 32\n",
        "bt = 64.128\n",
        "x = 16\n",
        "y = 2\n",
        "w = 4\n",
        "print(\"w111 = \", w111, \", type(w111) = \", type(w111))\n",
        "print(\"bt = \", bt, \", type(bt) = \", type(bt))\n",
        "print(\"x = \", x, \", type(x) = \", type(x))\n",
        "print(\"y = \", y, \", type(y) = \", type(y))\n",
        "print(\"w = \", w, \", type(w) = \", type(w))"
      ],
      "metadata": {
        "colab": {
          "base_uri": "https://localhost:8080/"
        },
        "id": "7WvsBpntFLQA",
        "outputId": "aa836e6c-1285-4f55-cd17-327d82b1f26c"
      },
      "execution_count": null,
      "outputs": [
        {
          "output_type": "stream",
          "name": "stdout",
          "text": [
            "w111 =  32 , type(w111) =  <class 'int'>\n",
            "bt =  64.128 , type(bt) =  <class 'float'>\n",
            "x =  16 , type(x) =  <class 'int'>\n",
            "y =  2 , type(y) =  <class 'int'>\n",
            "w =  4 , type(w) =  <class 'int'>\n"
          ]
        }
      ]
    },
    {
      "cell_type": "markdown",
      "source": [
        "Код для вычисления значения выражения **Se**:"
      ],
      "metadata": {
        "id": "5aB8IlupFnz8"
      }
    },
    {
      "cell_type": "code",
      "source": [
        "Se = w111 + bt - x + y*w\n",
        "print(\"Se =\", Se)"
      ],
      "metadata": {
        "colab": {
          "base_uri": "https://localhost:8080/"
        },
        "id": "taoHLjTnFws2",
        "outputId": "f98b7159-f3ae-4a6b-b80f-47ab35514e6c"
      },
      "execution_count": null,
      "outputs": [
        {
          "output_type": "stream",
          "name": "stdout",
          "text": [
            "Se = 88.128\n"
          ]
        }
      ]
    },
    {
      "cell_type": "markdown",
      "source": [
        "# 3. Контрольные вопросы"
      ],
      "metadata": {
        "id": "4LLk3EA6IsnJ"
      }
    },
    {
      "cell_type": "markdown",
      "source": [
        "**1. Чем отличается интерпретируемый язык программирования от\n",
        "компилируемого?** <br>\n",
        "Компилируемый язык — это такой язык, что программа, будучи скомпилированной, содержит инструкции целевой машины; этот машинный код непонятен людям. Интерпретируемый язык — это такой, в котором инструкции не исполняются целевой машиной, а считываются и исполняются другой программой (которая обычно написана на языке целевой машины). <br>\n",
        "**2. Перечислите компилируемые языки программирования.**<br>\n",
        "C, C++, Pascal, ObjectPascal, Delphi, FORTRAN, Ada и др. <br>\n",
        "**3. Перечислите интерпретируемые языки программирования.** <br>\n",
        "Java, LISP, Perl, Prolog, C# и др. <br>\n",
        "**4. Как объявляются переменные в языке Python?**<br>\n",
        "Чтобы объявить переменную в языке Python, необходимо указать ее имя, поставить знак присваивания (=) и написать значение, которое будет сохранено в переменной. <br>\n",
        "**5. Каким образом определить тип переменной в языке Python?**<br>\n",
        "Чтобы определить тип переменной в языке Python, необходимо использовать функцию type( ).<br>\n",
        "**6. Для чего используется функция print( )?**<br>\n",
        "Функция print () используется для вывода данных на экран.<br>\n",
        "**7. Какая функция предназначена для вычисления модуля в Python? Какую библиотеку необходимо для этого подключить?**\n",
        "Для вычисления модуля используется функция abs(). Для ее использования необходимо подключить библиотеку math <br>\n",
        "**8. Какие из перечисленных идентификаторов нельзя использовать в качестве\n",
        "имен пользовательских переменных?**<br>\n",
        "```\n",
        "_1_01, b100, int, double_1, _b200, MyVar, create-var, 4perem,\n",
        "_5elem, zo0, wodoo, UserCount, system_call, string, System.Double.\n",
        "```\n",
        "Нельзя использовать: int, wodoo, string, System.Double.\n",
        "\n",
        "**9. Перечислите основные типы в Python.** <br>\n",
        "В Python есть шесть основных типов данных — числа, строки, списки, кортежи, множества и словари."
      ],
      "metadata": {
        "id": "WfU10gz8JBT5"
      }
    }
  ]
}
