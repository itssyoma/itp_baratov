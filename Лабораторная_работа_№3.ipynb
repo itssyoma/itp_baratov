{
  "nbformat": 4,
  "nbformat_minor": 0,
  "metadata": {
    "colab": {
      "provenance": [],
      "toc_visible": true,
      "authorship_tag": "ABX9TyO0Z/XzVyUHVKUpDS5DLOEX",
      "include_colab_link": true
    },
    "kernelspec": {
      "name": "python3",
      "display_name": "Python 3"
    },
    "language_info": {
      "name": "python"
    }
  },
  "cells": [
    {
      "cell_type": "markdown",
      "metadata": {
        "id": "view-in-github",
        "colab_type": "text"
      },
      "source": [
        "<a href=\"https://colab.research.google.com/github/itssyoma/itp_baratov/blob/main/%D0%9B%D0%B0%D0%B1%D0%BE%D1%80%D0%B0%D1%82%D0%BE%D1%80%D0%BD%D0%B0%D1%8F_%D1%80%D0%B0%D0%B1%D0%BE%D1%82%D0%B0_%E2%84%963.ipynb\" target=\"_parent\"><img src=\"https://colab.research.google.com/assets/colab-badge.svg\" alt=\"Open In Colab\"/></a>"
      ]
    },
    {
      "cell_type": "markdown",
      "source": [
        "# Практическая работа №3\n",
        "# Тема: Обработка данных из файла <br>\n",
        "**Дисциплина:** «Информационные технологии и программирование» <br>\n",
        "**Выполнил:** Студент группы ПИЖ-б-о-22-1, направление подготовки: 09.03.04 «Программная инженерия»\n",
        "Баратов Семен Григорьевич <br>\n",
        "**Проверил:**\n",
        "Ассистент кафедры ИСТ\n",
        "Березина В.А."
      ],
      "metadata": {
        "id": "ijKqjvPBUWgQ"
      }
    },
    {
      "cell_type": "markdown",
      "source": [
        "# 1. Цель и содержание"
      ],
      "metadata": {
        "id": "L3kNNkDEUh7g"
      }
    },
    {
      "cell_type": "markdown",
      "source": [
        "Цель лабораторной работы: научиться обрабатывать данные из текстового файла. <br>\n",
        "Задачи лабораторной работы:<br>\n",
        "– научиться считывать символьные строки из файла;<br>\n",
        "– научиться преобразовывать строковые данные к прочим типа данных;<br>\n",
        "– научиться решать прикладные задачи с использованием простых скриптов."
      ],
      "metadata": {
        "id": "upYGtvVhUjb2"
      }
    },
    {
      "cell_type": "markdown",
      "source": [
        "# 2. Выполнение индивидуального задания."
      ],
      "metadata": {
        "id": "Dxpd_BWcUpym"
      }
    },
    {
      "cell_type": "markdown",
      "source": [
        "**Вариант 2.** <br>\n",
        "В файле data_v2.txt посчитать количество символов,\n",
        "расположенных между четными цифрами."
      ],
      "metadata": {
        "id": "3VIXwHiAUs8F"
      }
    },
    {
      "cell_type": "markdown",
      "source": [
        "Загрузим файл data_v2.txt в хранилище Google Collab."
      ],
      "metadata": {
        "id": "zElPPa7iVAA1"
      }
    },
    {
      "cell_type": "code",
      "source": [
        "!wget https://raw.githubusercontent.com/enikolaev/IT-and-Programming/main/data/data_v2.txt"
      ],
      "metadata": {
        "colab": {
          "base_uri": "https://localhost:8080/"
        },
        "id": "Fn24DyKWVEqf",
        "outputId": "f588ad44-735c-4216-b336-6f59e25fe807"
      },
      "execution_count": null,
      "outputs": [
        {
          "output_type": "stream",
          "name": "stdout",
          "text": [
            "--2023-04-04 07:28:07--  https://raw.githubusercontent.com/enikolaev/IT-and-Programming/main/data/data_v2.txt\n",
            "Resolving raw.githubusercontent.com (raw.githubusercontent.com)... 185.199.108.133, 185.199.109.133, 185.199.110.133, ...\n",
            "Connecting to raw.githubusercontent.com (raw.githubusercontent.com)|185.199.108.133|:443... connected.\n",
            "HTTP request sent, awaiting response... 200 OK\n",
            "Length: 85775 (84K) [text/plain]\n",
            "Saving to: ‘data_v2.txt’\n",
            "\n",
            "data_v2.txt         100%[===================>]  83.76K  --.-KB/s    in 0.02s   \n",
            "\n",
            "2023-04-04 07:28:07 (5.13 MB/s) - ‘data_v2.txt’ saved [85775/85775]\n",
            "\n"
          ]
        }
      ]
    },
    {
      "cell_type": "markdown",
      "source": [
        "Порядок действий:\n",
        "\n",
        "1) Прочтем и запишем файл в строку.<br>\n",
        "2) Зададим переменную `inprocess`, в которой будут обрабатываться подстроки, не содержащие четных цифр, и `res`, в которой будет суммироваться количество символов между четными цифрами.<br>\n",
        "3) Циклом пройдемся по каждому символу строки. Если символ не является четной цифрой, добавим его в подстроку `inprocess`. Если является, добавим длину подстроки в переменную `res` и обнулим подстроку `inprocess`.<br>\n",
        "4) Выведем результат."
      ],
      "metadata": {
        "id": "QFhk-6g6VxE-"
      }
    },
    {
      "cell_type": "code",
      "source": [
        "f = open('data_v2.txt')\n",
        "s = f.readline()\n",
        "f.close\n",
        "\n",
        "inprocess = ''\n",
        "res = 0\n",
        "\n",
        "for i in range(len(s)):\n",
        "  if s[i] not in \"02468\":\n",
        "    inprocess += s[i]\n",
        "  else:\n",
        "    res += len(inprocess)\n",
        "    inprocess = ''\n",
        "\n",
        "print('Длина строки: ', len(s))\n",
        "print('Количество символов между четными цифрами: ', res)"
      ],
      "metadata": {
        "colab": {
          "base_uri": "https://localhost:8080/"
        },
        "id": "DXS4_TATZntS",
        "outputId": "52762b49-d2b6-465a-e068-3266e1bda605"
      },
      "execution_count": null,
      "outputs": [
        {
          "output_type": "stream",
          "name": "stdout",
          "text": [
            "Длина строки:  85775\n",
            "Количество символов между четными цифрами:  78802\n"
          ]
        }
      ]
    },
    {
      "cell_type": "markdown",
      "source": [
        "# 3. Контрольные вопросы"
      ],
      "metadata": {
        "id": "yWKX7l5hQAcj"
      }
    },
    {
      "cell_type": "markdown",
      "source": [
        "**1. Что общего у строки и списка в Python?<br>**\n",
        "Строки в Python можно рассматривать как особую разновидность кортежа (tuple), который, в свою очередь, является неизменяемым массивом. Список (list), в свою очередь – динамический массив.<br><br>\n",
        "**2. Перечислите и охарактеризуйте функции класса str в Python.<br>**\n",
        "Класс str() выполнит преобразование и вернет строковую версию объекта. Если объект не указан, класс str() возвращает пустую строку. В противном случае поведение str() зависит от того, задано ли кодировка encoding или значение errors обработчика ошибок.<br><br>\n",
        "**3. Охарактеризуйте тип данных dict в Python.<br>**\n",
        "Словари (dict) хранят пары ключ: значение. То есть в списках можно достать элемент, если указать его позицию в виде целого числа, а в словарях – тот самый ключ. dict – неупорядоченный тип данных, поэтому достать элемент по номеру не получится, но отображение содержимого будет в порядке добавления элементов.<br><br>\n",
        "**4. Перечислите и опишите использование функций класса dict.<br>**\n",
        "dict.clear() - очищает словарь.\n",
        "\n",
        "dict.copy() - возвращает копию словаря.\n",
        "\n",
        "classmethod dict.fromkeys(seq[, value]) - создает словарь с ключами из seq и значением value (по умолчанию None).\n",
        "\n",
        "dict.get(key[, default]) - возвращает значение ключа, но если его нет, не бросает исключение, а возвращает default (по умолчанию None).\n",
        "\n",
        "dict.items() - возвращает пары (ключ, значение).\n",
        "\n",
        "dict.keys() - возвращает ключи в словаре.\n",
        "\n",
        "dict.pop(key[, default]) - удаляет ключ и возвращает значение. Если ключа нет, возвращает default (по умолчанию бросает исключение).\n",
        "\n",
        "dict.popitem() - удаляет и возвращает пару (ключ, значение). Если словарь пуст, бросает исключение KeyError. Помните, что словари неупорядочены.\n",
        "\n",
        "dict.setdefault(key[, default]) - возвращает значение ключа, но если его нет, не бросает исключение, а создает ключ со значением default (по умолчанию None).\n",
        "\n",
        "dict.update([other]) - обновляет словарь, добавляя пары (ключ, значение) из other. Существующие ключи перезаписываются. Возвращает None (не новый словарь!).\n",
        "\n",
        "dict.values() - возвращает значения в словаре.<br><br>\n",
        "**5. Опишите механизм чтения данных из текстового файла.<br>**\n",
        "В Python открытие файлов выполняется с помощью функции open(), которой передается два аргумента - имя файла и режим.<br><br>\n",
        "\n",
        "**6. Опишите назначение, сходства и различия функций чтения из текстового\n",
        "файла: read( ), readline( ), readlines( ).<br>**\n",
        "read() - считывает содержимое файла в строку <br>readline() - считывает файл построчно <br>readlines() - считывает строки файла и создает список из строк<br><br>\n",
        "**7. Как прочитать многострочный текстовый файл не используя явно методы\n",
        "read( ), readline( ), readlines( )?<br>**\n",
        "При помощи функции next()."
      ],
      "metadata": {
        "id": "C9ztKgJjNtq3"
      }
    }
  ]
}